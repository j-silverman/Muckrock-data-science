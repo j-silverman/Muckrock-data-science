{
 "cells": [
  {
   "cell_type": "code",
   "execution_count": null,
   "metadata": {
    "collapsed": true
   },
   "outputs": [],
   "source": [
    "API_KEY = 'c5BSlu8vsbsQ67YxkzJJWE6Bp'\n",
    "API_SECRET = 'J6JtjmiA7jHU4kXA9WW7a1XgJ2qQFsAhXvmx4fL7quVw98R6hO'\n",
    "\n",
    "ACCESS_TOKEN = '1932348834-9tO1vkYQQ5ld1faaN6I3D3T8azIy8FYHCW05ZbF'\n",
    "ACCESS_TOKEN_SECRET = 'dUILOVJE0AGvEvklRAZb1NLhShKq6L0K54OEZDG0pRT5F'"
   ]
  }
 ],
 "metadata": {
  "kernelspec": {
   "display_name": "Python 2",
   "language": "python",
   "name": "python2"
  },
  "language_info": {
   "codemirror_mode": {
    "name": "ipython",
    "version": 2
   },
   "file_extension": ".py",
   "mimetype": "text/x-python",
   "name": "python",
   "nbconvert_exporter": "python",
   "pygments_lexer": "ipython2",
   "version": "2.7.13"
  }
 },
 "nbformat": 4,
 "nbformat_minor": 2
}
