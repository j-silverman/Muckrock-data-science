{
 "cells": [
  {
   "cell_type": "code",
   "execution_count": 1,
   "metadata": {
    "collapsed": true
   },
   "outputs": [],
   "source": [
    "import tweepy\n",
    "import pandas as pd\n",
    "\n",
    "API_KEY = 'c5BSlu8vsbsQ67YxkzJJWE6Bp'\n",
    "API_SECRET = 'J6JtjmiA7jHU4kXA9WW7a1XgJ2qQFsAhXvmx4fL7quVw98R6hO'\n",
    "\n",
    "ACCESS_TOKEN = '1932348834-9tO1vkYQQ5ld1faaN6I3D3T8azIy8FYHCW05ZbF'\n",
    "ACCESS_TOKEN_SECRET = 'dUILOVJE0AGvEvklRAZb1NLhShKq6L0K54OEZDG0pRT5F'\n",
    "\n",
    "\n",
    "API_KEY2 = 'FY90EuXVADbSGGucgH2Net54B'\n",
    "API_SECRET2 = '4UkNBS2QLBrDVcdw9LojAC1DlGDdQtoGBmJM6Q8fk1xMUNx9pk'\n",
    "\n",
    "ACCESS_TOKEN2 = '391130327-QIR8CoahhTOjtRGORXWwVSE2Z0hKNOg7EB8N7atI'\n",
    "ACCESS_TOKEN_SECRET2 = 'Os4HAADeeR81n04PjrnwsOttRRUyV9PfXHeIgHeEWSpO7'\n",
    "\n",
    "auth = tweepy.OAuthHandler(API_KEY2, API_SECRET2)\n",
    "auth.set_access_token(ACCESS_TOKEN2, ACCESS_TOKEN_SECRET2)\n",
    "\n",
    "api = tweepy.API(auth, wait_on_rate_limit = True)\n"
   ]
  },
  {
   "cell_type": "code",
   "execution_count": null,
   "metadata": {
    "collapsed": true
   },
   "outputs": [],
   "source": [
    "data = pd.read_csv('C:/cs506/data(1).csv', error_bad_lines = False)\n",
    "\n",
    "users = (data.loc[~data['absolute_url'].str.startswith('/agency/united-states-of-america-10/', na = False)])\n",
    "\n",
    "username = users['twitter'].tolist()\n",
    "    "
   ]
  },
  {
   "cell_type": "code",
   "execution_count": 13,
   "metadata": {},
   "outputs": [
    {
     "data": {
      "text/html": [
       "<div>\n",
       "<style scoped>\n",
       "    .dataframe tbody tr th:only-of-type {\n",
       "        vertical-align: middle;\n",
       "    }\n",
       "\n",
       "    .dataframe tbody tr th {\n",
       "        vertical-align: top;\n",
       "    }\n",
       "\n",
       "    .dataframe thead th {\n",
       "        text-align: right;\n",
       "    }\n",
       "</style>\n",
       "<table border=\"1\" class=\"dataframe\">\n",
       "  <thead>\n",
       "    <tr style=\"text-align: right;\">\n",
       "      <th></th>\n",
       "      <th>Handle</th>\n",
       "      <th>ID</th>\n",
       "    </tr>\n",
       "  </thead>\n",
       "  <tbody>\n",
       "    <tr>\n",
       "      <th>0</th>\n",
       "      <td>RepThomasMassie</td>\n",
       "      <td>9.752005e+08</td>\n",
       "    </tr>\n",
       "    <tr>\n",
       "      <th>1</th>\n",
       "      <td>RepThompson</td>\n",
       "      <td>3.038618e+08</td>\n",
       "    </tr>\n",
       "    <tr>\n",
       "      <th>2</th>\n",
       "      <td>RepTimMurphy</td>\n",
       "      <td>1.177778e+08</td>\n",
       "    </tr>\n",
       "    <tr>\n",
       "      <th>3</th>\n",
       "      <td>RepTimRyan</td>\n",
       "      <td>1.349131e+07</td>\n",
       "    </tr>\n",
       "    <tr>\n",
       "      <th>4</th>\n",
       "      <td>RepTimWalz</td>\n",
       "      <td>1.262814e+09</td>\n",
       "    </tr>\n",
       "  </tbody>\n",
       "</table>\n",
       "</div>"
      ],
      "text/plain": [
       "            Handle            ID\n",
       "0  RepThomasMassie  9.752005e+08\n",
       "1      RepThompson  3.038618e+08\n",
       "2     RepTimMurphy  1.177778e+08\n",
       "3       RepTimRyan  1.349131e+07\n",
       "4       RepTimWalz  1.262814e+09"
      ]
     },
     "execution_count": 13,
     "metadata": {},
     "output_type": "execute_result"
    }
   ],
   "source": [
    "# dataSenate = pd.read_csv('115th-Congress-Senate-seeds.csv')\n",
    "#dataHouse = pd.read_csv('115th-Congress-House-seeds.csv')\n",
    "\n",
    "dataHouse = pd.read_csv('top8house.csv')\n",
    "\n",
    "dataHouse.head()"
   ]
  },
  {
   "cell_type": "code",
   "execution_count": 14,
   "metadata": {
    "collapsed": true
   },
   "outputs": [],
   "source": [
    "tweets = pd.DataFrame(columns = ['username', 'tweets', 'time'])\n",
    "\n",
    "username = dataHouse['Handle'].tolist()"
   ]
  },
  {
   "cell_type": "code",
   "execution_count": null,
   "metadata": {},
   "outputs": [
    {
     "name": "stdout",
     "output_type": "stream",
     "text": [
      "1\n",
      "2\n",
      "3\n",
      "4\n",
      "5\n",
      "6\n",
      "7\n",
      "8\n",
      "9\n",
      "10\n",
      "11\n",
      "12\n",
      "13\n",
      "14\n",
      "15\n",
      "16\n",
      "17\n",
      "18\n",
      "19\n",
      "20\n",
      "21\n",
      "22\n",
      "23\n",
      "24\n",
      "25\n",
      "26\n",
      "27\n",
      "28\n",
      "29\n",
      "30\n",
      "31\n",
      "32\n",
      "33\n",
      "34\n"
     ]
    }
   ],
   "source": [
    "count = 1\n",
    "for user in username:\n",
    "    try:\n",
    "        for tweet in tweepy.Cursor(api.user_timeline, id = user, tweet_mode = 'extended').items():\n",
    "            tweets = tweets.append({'username':user, 'tweets':tweet.full_text, 'time':tweet.created_at}, ignore_index = True)\n",
    "        print(count)\n",
    "        count+=1\n",
    "    except:\n",
    "        #tweets.to_csv('C:/cs506/nonfedtwitterdata.csv', encoding='utf-8')\n",
    "        tweets.to_csv('housetweets2.csv',encoding='utf-8')\n",
    "\n"
   ]
  },
  {
   "cell_type": "code",
   "execution_count": null,
   "metadata": {
    "collapsed": true
   },
   "outputs": [],
   "source": []
  }
 ],
 "metadata": {
  "kernelspec": {
   "display_name": "Python 3",
   "language": "python",
   "name": "python3"
  },
  "language_info": {
   "codemirror_mode": {
    "name": "ipython",
    "version": 3
   },
   "file_extension": ".py",
   "mimetype": "text/x-python",
   "name": "python",
   "nbconvert_exporter": "python",
   "pygments_lexer": "ipython3",
   "version": "3.6.3"
  }
 },
 "nbformat": 4,
 "nbformat_minor": 2
}
